{
 "cells": [
  {
   "cell_type": "code",
   "execution_count": null,
   "metadata": {},
   "outputs": [],
   "source": [
    "P1 = Republican (first state)\n",
    "P2 = Republican (second state) \n",
    "p1 = sample in the first state \n",
    "p2 = sample in the second state \n",
    "The number sampled (n1) = 100 \n",
    "The number sampled (n2) = 100\n",
    "Mean of the difference of sample proportions: E(p1 - p2) = P1 - P2 = 0.52 - 0.47 = 0.05.\n",
    "\n",
    "SD= sq{[P1(1 - P1)/n1] + [P2(1 - P2) / n2]}\n",
    "SD= sq{[(0.52)(0.48)/100] + [ (0.47)(0.53) / 100]}\n",
    "SD= sq(0.002496+0.002491) = sq(0.004987) = 0.0706\n",
    "finding p1  < p2 or (p1 - p2) < 0, finding z-score of p1 - p2\n",
    "z(p1-p2) = (x - μ(p1-p2)) / SD =(0 - 0.05)/0.0706 = -0.7082\n",
    "z-score being -0.7082 or less=0.24. \n",
    "Resulting in show a greater percentage of Republican voters in the second state than the first state of 24%\n",
    " \n"
   ]
  }
 ],
 "metadata": {
  "kernelspec": {
   "display_name": "Python 3",
   "language": "python",
   "name": "python3"
  },
  "language_info": {
   "codemirror_mode": {
    "name": "ipython",
    "version": 3
   },
   "file_extension": ".py",
   "mimetype": "text/x-python",
   "name": "python",
   "nbconvert_exporter": "python",
   "pygments_lexer": "ipython3",
   "version": "3.6.4"
  }
 },
 "nbformat": 4,
 "nbformat_minor": 2
}
